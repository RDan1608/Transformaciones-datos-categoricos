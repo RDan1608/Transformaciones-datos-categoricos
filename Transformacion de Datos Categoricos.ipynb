{
 "cells": [
  {
   "cell_type": "code",
   "execution_count": 70,
   "id": "9d510e1d-46df-4451-8508-04252aeb4e59",
   "metadata": {},
   "outputs": [],
   "source": [
    "import pandas as pd"
   ]
  },
  {
   "cell_type": "code",
   "execution_count": 71,
   "id": "c2f0bb01-3c7c-4d18-9f29-80c077cd5dbe",
   "metadata": {},
   "outputs": [],
   "source": [
    "adidas = pd.read_csv(\"adidas.csv\")"
   ]
  },
  {
   "cell_type": "code",
   "execution_count": 72,
   "id": "42ea7cb9-f8ec-42bb-a470-cae0fe5d7b4f",
   "metadata": {},
   "outputs": [
    {
     "data": {
      "text/plain": [
       "Index(['url', 'name', 'sku', 'selling_price', 'original_price', 'currency',\n",
       "       'availability', 'color', 'category', 'source', 'source_website',\n",
       "       'breadcrumbs', 'description', 'brand', 'images', 'country', 'language',\n",
       "       'average_rating', 'reviews_count', 'crawled_at'],\n",
       "      dtype='object')"
      ]
     },
     "execution_count": 72,
     "metadata": {},
     "output_type": "execute_result"
    }
   ],
   "source": [
    "adidas.columns"
   ]
  },
  {
   "cell_type": "code",
   "execution_count": 73,
   "id": "22241e2c-4a77-4bd5-afa6-e167091685a2",
   "metadata": {},
   "outputs": [],
   "source": [
    "categoricals = ['url', 'name', 'sku', 'currency',\n",
    "       'availability', 'color', 'category', 'source', 'source_website',\n",
    "       'breadcrumbs', 'description', 'brand', 'images', 'country', 'language',\n",
    "       ]"
   ]
  },
  {
   "cell_type": "code",
   "execution_count": 74,
   "id": "517c783c-1b55-4a0f-a2bc-7dfb077c7bff",
   "metadata": {},
   "outputs": [],
   "source": [
    "adidas=adidas.loc[:, categoricals]"
   ]
  },
  {
   "cell_type": "markdown",
   "id": "57777023-47dc-49c7-a3b7-bbb5c5dc5277",
   "metadata": {},
   "source": [
    "### Vamos a eliminar las columnas donde los niveles distintos de las variables categoricas representan mas del 0.95"
   ]
  },
  {
   "cell_type": "code",
   "execution_count": 147,
   "id": "69b21462-c476-4b63-92c8-e3d1a01dee67",
   "metadata": {},
   "outputs": [],
   "source": [
    "target = .95\n",
    "\n",
    "valid_columns = []\n",
    "columns_many_levels = []\n",
    "columns_one_level = []\n",
    "\n",
    "for c_ in categoricals:\n",
    "    x = adidas.loc[ : , [c_] ].drop_duplicates()\n",
    "    uniquevalues = x.shape[0]\n",
    "    \n",
    "    if uniquevalues == 1:\n",
    "        columns_one_level.append(c_)\n",
    "    elif (uniquevalues / adidas.shape[0]) > target:\n",
    "        columns_many_levels.append(c_)\n",
    "    else:\n",
    "        valid_columns.append(c_)\n",
    "    "
   ]
  },
  {
   "cell_type": "markdown",
   "id": "dcc34f2e-f1e9-4092-9c72-aec20bac2ad8",
   "metadata": {},
   "source": [
    "# EJERCICIO 1"
   ]
  },
  {
   "cell_type": "markdown",
   "id": "0fc77319-4cde-4234-bd83-6cbf9a687330",
   "metadata": {},
   "source": [
    "#### Según el dataset de adidas, para las columnas categóricas, encontrar -aquellas columnas que tienen mas de un nivel,y que por lo menos uno de esos niveles represente mas o igual del 98%. Para las columnas que cumplan esa premisa, eliminaran del array de columnas validas "
   ]
  },
  {
   "cell_type": "code",
   "execution_count": 148,
   "id": "a371227e-cf28-433b-90e1-0cb2b1780ad0",
   "metadata": {},
   "outputs": [],
   "source": [
    "target=0.98\n",
    "Columns_out= []\n",
    "for c_ in categoricals:\n",
    "    x = adidas.loc[ : , [c_] ].drop_duplicates()\n",
    "    uniquevalues = x.shape[0]\n",
    "    y = adidas[c_].value_counts()/adidas.shape[0]\n",
    "    Porcentaje=y[0]\n",
    "    if (uniquevalues > 1 and Porcentaje>=target) :\n",
    "        Columns_out.append(c_)\n",
    "        valid_columns.remove(c_)\n",
    "   \n",
    "    "
   ]
  },
  {
   "cell_type": "code",
   "execution_count": 149,
   "id": "3f62156b-cb6a-41f5-927e-d510a10facf7",
   "metadata": {},
   "outputs": [
    {
     "data": {
      "text/plain": [
       "['availability']"
      ]
     },
     "execution_count": 149,
     "metadata": {},
     "output_type": "execute_result"
    }
   ],
   "source": [
    "Columns_out     #Columnas que cumplieron la condicion del ejercicio "
   ]
  },
  {
   "cell_type": "code",
   "execution_count": 150,
   "id": "579c9439-f082-4a56-bc74-76f0ae8b3baf",
   "metadata": {},
   "outputs": [
    {
     "data": {
      "text/plain": [
       "['name', 'color', 'category', 'breadcrumbs', 'description']"
      ]
     },
     "execution_count": 150,
     "metadata": {},
     "output_type": "execute_result"
    }
   ],
   "source": [
    "valid_columns   #Sacamos las columnas que estan en el array Columns_out"
   ]
  },
  {
   "cell_type": "markdown",
   "id": "1fae95ca-aef5-4491-b09e-155851622f44",
   "metadata": {},
   "source": [
    "# EJERCICIO 2"
   ]
  },
  {
   "cell_type": "markdown",
   "id": "1a0103ac-4483-45bf-bac2-ab2728908e31",
   "metadata": {},
   "source": [
    "#### Según el dataset de adidas, para las columnas categóricas, encontrar aquellas columnas que tengan entre 3-6 niveles. Al nivel con la frecuencia mas baja lo vamos a remplazar por la palabra Others, una vez ya tenga esa regla aplicarla al dataset original, tal cual como se hizo con el ejercicio hecho en clases."
   ]
  },
  {
   "cell_type": "code",
   "execution_count": 157,
   "id": "df685d1c-7aa8-410b-8f16-cbed0dfaf5ab",
   "metadata": {},
   "outputs": [],
   "source": [
    "valid_columns_three_six_levels = []\n",
    "for c_ in categoricals:\n",
    "    x = adidas.loc[ : , [c_] ].drop_duplicates()\n",
    "    uniquevalues = x.shape[0]\n",
    "    \n",
    "    if uniquevalues >=3 and uniquevalues <=6:\n",
    "        valid_columns_three_six_levels.append(c_)"
   ]
  },
  {
   "cell_type": "code",
   "execution_count": 158,
   "id": "410b780a-e00d-4b95-8882-058db11b12b4",
   "metadata": {},
   "outputs": [
    {
     "data": {
      "text/plain": [
       "['category']"
      ]
     },
     "execution_count": 158,
     "metadata": {},
     "output_type": "execute_result"
    }
   ],
   "source": [
    "valid_columns_three_six_levels"
   ]
  },
  {
   "cell_type": "code",
   "execution_count": 160,
   "id": "2cb0ee24-547e-4dfb-8c9a-e1f3c2c6d806",
   "metadata": {},
   "outputs": [],
   "source": [
    "level_frequency= adidas.groupby(['category'], as_index=False).agg({'sku':['count']})"
   ]
  },
  {
   "cell_type": "code",
   "execution_count": 161,
   "id": "f9717ee9-b8b1-412b-9068-7e9d323820ce",
   "metadata": {},
   "outputs": [],
   "source": [
    "level_frequency.columns=level_frequency.columns.droplevel(1)"
   ]
  },
  {
   "cell_type": "code",
   "execution_count": 162,
   "id": "d005eb15-c6de-438a-9530-602db8ee9286",
   "metadata": {},
   "outputs": [],
   "source": [
    "level_frequency['Porcentaje']=level_frequency['sku']/adidas.shape[0]"
   ]
  },
  {
   "cell_type": "code",
   "execution_count": 163,
   "id": "cfd4eb92-533f-4804-8819-67a57712ebf4",
   "metadata": {},
   "outputs": [],
   "source": [
    "level_frequency=level_frequency.sort_values(['Porcentaje'], ascending=False)"
   ]
  },
  {
   "cell_type": "code",
   "execution_count": 164,
   "id": "35f55780-c64c-4ecc-b9b8-3c7bda8aad84",
   "metadata": {},
   "outputs": [],
   "source": [
    "level_frequency['ncategory']='Others'"
   ]
  },
  {
   "cell_type": "code",
   "execution_count": 165,
   "id": "f60e28e7-2da5-409e-be20-241f1dc12b11",
   "metadata": {},
   "outputs": [],
   "source": [
    "Valor_minimo=level_frequency['Porcentaje'].min()"
   ]
  },
  {
   "cell_type": "code",
   "execution_count": 166,
   "id": "bd081e51-5b16-4cdf-b323-915139599c31",
   "metadata": {},
   "outputs": [],
   "source": [
    "level_frequency['ncategory']=level_frequency.apply( lambda r: r[\"category\"] if r[\"Porcentaje\"] > Valor_minimo else r[\"ncategory\"] , axis = 1 )"
   ]
  },
  {
   "cell_type": "code",
   "execution_count": 167,
   "id": "eb0f24bc-a812-4e5b-8dff-e56ec11bc776",
   "metadata": {},
   "outputs": [],
   "source": [
    "level_frequency=level_frequency.loc[:, ['category','ncategory']]"
   ]
  },
  {
   "cell_type": "code",
   "execution_count": 168,
   "id": "f4824158-4180-4be3-a427-6a0170628f7f",
   "metadata": {},
   "outputs": [
    {
     "data": {
      "text/html": [
       "<div>\n",
       "<style scoped>\n",
       "    .dataframe tbody tr th:only-of-type {\n",
       "        vertical-align: middle;\n",
       "    }\n",
       "\n",
       "    .dataframe tbody tr th {\n",
       "        vertical-align: top;\n",
       "    }\n",
       "\n",
       "    .dataframe thead th {\n",
       "        text-align: right;\n",
       "    }\n",
       "</style>\n",
       "<table border=\"1\" class=\"dataframe\">\n",
       "  <thead>\n",
       "    <tr style=\"text-align: right;\">\n",
       "      <th></th>\n",
       "      <th>category</th>\n",
       "      <th>ncategory</th>\n",
       "    </tr>\n",
       "  </thead>\n",
       "  <tbody>\n",
       "    <tr>\n",
       "      <th>2</th>\n",
       "      <td>Shoes</td>\n",
       "      <td>Shoes</td>\n",
       "    </tr>\n",
       "    <tr>\n",
       "      <th>1</th>\n",
       "      <td>Clothing</td>\n",
       "      <td>Clothing</td>\n",
       "    </tr>\n",
       "    <tr>\n",
       "      <th>0</th>\n",
       "      <td>Accessories</td>\n",
       "      <td>Others</td>\n",
       "    </tr>\n",
       "  </tbody>\n",
       "</table>\n",
       "</div>"
      ],
      "text/plain": [
       "      category ncategory\n",
       "2        Shoes     Shoes\n",
       "1     Clothing  Clothing\n",
       "0  Accessories    Others"
      ]
     },
     "execution_count": 168,
     "metadata": {},
     "output_type": "execute_result"
    }
   ],
   "source": [
    "level_frequency"
   ]
  },
  {
   "cell_type": "code",
   "execution_count": 169,
   "id": "3fd9065c-5fb2-4764-8d7a-4936bf77e007",
   "metadata": {},
   "outputs": [
    {
     "data": {
      "text/html": [
       "<div>\n",
       "<style scoped>\n",
       "    .dataframe tbody tr th:only-of-type {\n",
       "        vertical-align: middle;\n",
       "    }\n",
       "\n",
       "    .dataframe tbody tr th {\n",
       "        vertical-align: top;\n",
       "    }\n",
       "\n",
       "    .dataframe thead th {\n",
       "        text-align: right;\n",
       "    }\n",
       "</style>\n",
       "<table border=\"1\" class=\"dataframe\">\n",
       "  <thead>\n",
       "    <tr style=\"text-align: right;\">\n",
       "      <th></th>\n",
       "      <th>url</th>\n",
       "      <th>name</th>\n",
       "      <th>sku</th>\n",
       "      <th>currency</th>\n",
       "      <th>availability</th>\n",
       "      <th>color</th>\n",
       "      <th>category</th>\n",
       "      <th>source</th>\n",
       "      <th>source_website</th>\n",
       "      <th>breadcrumbs</th>\n",
       "      <th>description</th>\n",
       "      <th>brand</th>\n",
       "      <th>images</th>\n",
       "      <th>country</th>\n",
       "      <th>language</th>\n",
       "      <th>ncategory</th>\n",
       "    </tr>\n",
       "  </thead>\n",
       "  <tbody>\n",
       "    <tr>\n",
       "      <th>0</th>\n",
       "      <td>https://www.adidas.com/us/beach-shorts/FJ5089....</td>\n",
       "      <td>Beach Shorts</td>\n",
       "      <td>FJ5089</td>\n",
       "      <td>USD</td>\n",
       "      <td>InStock</td>\n",
       "      <td>Black</td>\n",
       "      <td>Clothing</td>\n",
       "      <td>adidas United States</td>\n",
       "      <td>https://www.adidas.com</td>\n",
       "      <td>Women/Clothing</td>\n",
       "      <td>Splashing in the surf. Making memories with yo...</td>\n",
       "      <td>adidas</td>\n",
       "      <td>https://assets.adidas.com/images/w_600,f_auto,...</td>\n",
       "      <td>USA</td>\n",
       "      <td>en</td>\n",
       "      <td>Clothing</td>\n",
       "    </tr>\n",
       "    <tr>\n",
       "      <th>1</th>\n",
       "      <td>https://www.adidas.com/us/five-ten-kestrel-lac...</td>\n",
       "      <td>Five Ten Kestrel Lace Mountain Bike Shoes</td>\n",
       "      <td>BC0770</td>\n",
       "      <td>USD</td>\n",
       "      <td>InStock</td>\n",
       "      <td>Grey</td>\n",
       "      <td>Shoes</td>\n",
       "      <td>adidas United States</td>\n",
       "      <td>https://www.adidas.com</td>\n",
       "      <td>Women/Shoes</td>\n",
       "      <td>Lace up and get after it. The Five Ten Kestrel...</td>\n",
       "      <td>adidas</td>\n",
       "      <td>https://assets.adidas.com/images/w_600,f_auto,...</td>\n",
       "      <td>USA</td>\n",
       "      <td>en</td>\n",
       "      <td>Shoes</td>\n",
       "    </tr>\n",
       "    <tr>\n",
       "      <th>2</th>\n",
       "      <td>https://www.adidas.com/us/mexico-away-jersey/G...</td>\n",
       "      <td>Mexico Away Jersey</td>\n",
       "      <td>GC7946</td>\n",
       "      <td>USD</td>\n",
       "      <td>InStock</td>\n",
       "      <td>White</td>\n",
       "      <td>Clothing</td>\n",
       "      <td>adidas United States</td>\n",
       "      <td>https://www.adidas.com</td>\n",
       "      <td>Kids/Clothing</td>\n",
       "      <td>Clean and crisp, this adidas Mexico Away Jerse...</td>\n",
       "      <td>adidas</td>\n",
       "      <td>https://assets.adidas.com/images/w_600,f_auto,...</td>\n",
       "      <td>USA</td>\n",
       "      <td>en</td>\n",
       "      <td>Clothing</td>\n",
       "    </tr>\n",
       "    <tr>\n",
       "      <th>3</th>\n",
       "      <td>https://www.adidas.com/us/five-ten-hiangle-pro...</td>\n",
       "      <td>Five Ten Hiangle Pro Competition Climbing Shoes</td>\n",
       "      <td>FV4744</td>\n",
       "      <td>USD</td>\n",
       "      <td>InStock</td>\n",
       "      <td>Black</td>\n",
       "      <td>Shoes</td>\n",
       "      <td>adidas United States</td>\n",
       "      <td>https://www.adidas.com</td>\n",
       "      <td>Five Ten/Shoes</td>\n",
       "      <td>The Hiangle Pro takes on the classic shape of ...</td>\n",
       "      <td>adidas</td>\n",
       "      <td>https://assets.adidas.com/images/w_600,f_auto,...</td>\n",
       "      <td>USA</td>\n",
       "      <td>en</td>\n",
       "      <td>Shoes</td>\n",
       "    </tr>\n",
       "    <tr>\n",
       "      <th>4</th>\n",
       "      <td>https://www.adidas.com/us/mesh-broken-stripe-p...</td>\n",
       "      <td>Mesh Broken-Stripe Polo Shirt</td>\n",
       "      <td>GM0239</td>\n",
       "      <td>USD</td>\n",
       "      <td>InStock</td>\n",
       "      <td>Blue</td>\n",
       "      <td>Clothing</td>\n",
       "      <td>adidas United States</td>\n",
       "      <td>https://www.adidas.com</td>\n",
       "      <td>Men/Clothing</td>\n",
       "      <td>Step up to the tee relaxed. This adidas golf p...</td>\n",
       "      <td>adidas</td>\n",
       "      <td>https://assets.adidas.com/images/w_600,f_auto,...</td>\n",
       "      <td>USA</td>\n",
       "      <td>en</td>\n",
       "      <td>Clothing</td>\n",
       "    </tr>\n",
       "    <tr>\n",
       "      <th>...</th>\n",
       "      <td>...</td>\n",
       "      <td>...</td>\n",
       "      <td>...</td>\n",
       "      <td>...</td>\n",
       "      <td>...</td>\n",
       "      <td>...</td>\n",
       "      <td>...</td>\n",
       "      <td>...</td>\n",
       "      <td>...</td>\n",
       "      <td>...</td>\n",
       "      <td>...</td>\n",
       "      <td>...</td>\n",
       "      <td>...</td>\n",
       "      <td>...</td>\n",
       "      <td>...</td>\n",
       "      <td>...</td>\n",
       "    </tr>\n",
       "    <tr>\n",
       "      <th>840</th>\n",
       "      <td>https://www.adidas.com/us/supernova-plus-shoes...</td>\n",
       "      <td>Supernova+ Shoes</td>\n",
       "      <td>FX2858</td>\n",
       "      <td>USD</td>\n",
       "      <td>InStock</td>\n",
       "      <td>White</td>\n",
       "      <td>Shoes</td>\n",
       "      <td>adidas United States</td>\n",
       "      <td>https://www.adidas.com</td>\n",
       "      <td>Women/Shoes</td>\n",
       "      <td>Take off. Touch down. Repeat. These adidas run...</td>\n",
       "      <td>adidas</td>\n",
       "      <td>https://assets.adidas.com/images/w_600,f_auto,...</td>\n",
       "      <td>USA</td>\n",
       "      <td>en</td>\n",
       "      <td>Shoes</td>\n",
       "    </tr>\n",
       "    <tr>\n",
       "      <th>841</th>\n",
       "      <td>https://www.adidas.com/us/choigo-shoes/H00667....</td>\n",
       "      <td>Choigo Shoes</td>\n",
       "      <td>H00667</td>\n",
       "      <td>USD</td>\n",
       "      <td>InStock</td>\n",
       "      <td>White</td>\n",
       "      <td>Shoes</td>\n",
       "      <td>adidas United States</td>\n",
       "      <td>https://www.adidas.com</td>\n",
       "      <td>Women/Shoes</td>\n",
       "      <td>If you want drama, the bold female track and f...</td>\n",
       "      <td>adidas</td>\n",
       "      <td>https://assets.adidas.com/images/w_600,f_auto,...</td>\n",
       "      <td>USA</td>\n",
       "      <td>en</td>\n",
       "      <td>Shoes</td>\n",
       "    </tr>\n",
       "    <tr>\n",
       "      <th>842</th>\n",
       "      <td>https://www.adidas.com/us/daily-3.0-shoes/GZ77...</td>\n",
       "      <td>Daily 3.0 Shoes</td>\n",
       "      <td>GZ7705</td>\n",
       "      <td>USD</td>\n",
       "      <td>InStock</td>\n",
       "      <td>Black</td>\n",
       "      <td>Shoes</td>\n",
       "      <td>adidas United States</td>\n",
       "      <td>https://www.adidas.com</td>\n",
       "      <td>Kids/Shoes</td>\n",
       "      <td>The style is in the details of the Daily 3.0 S...</td>\n",
       "      <td>adidas</td>\n",
       "      <td>https://assets.adidas.com/images/w_600,f_auto,...</td>\n",
       "      <td>USA</td>\n",
       "      <td>en</td>\n",
       "      <td>Shoes</td>\n",
       "    </tr>\n",
       "    <tr>\n",
       "      <th>843</th>\n",
       "      <td>https://www.adidas.com/us/daily-3.0-shoes/GZ77...</td>\n",
       "      <td>Daily 3.0 Shoes</td>\n",
       "      <td>GZ7706</td>\n",
       "      <td>USD</td>\n",
       "      <td>InStock</td>\n",
       "      <td>Pink</td>\n",
       "      <td>Shoes</td>\n",
       "      <td>adidas United States</td>\n",
       "      <td>https://www.adidas.com</td>\n",
       "      <td>Kids/Shoes</td>\n",
       "      <td>The style is in the details of the Daily 3.0 S...</td>\n",
       "      <td>adidas</td>\n",
       "      <td>https://assets.adidas.com/images/w_600,f_auto,...</td>\n",
       "      <td>USA</td>\n",
       "      <td>en</td>\n",
       "      <td>Shoes</td>\n",
       "    </tr>\n",
       "    <tr>\n",
       "      <th>844</th>\n",
       "      <td>https://www.adidas.com/us/choigo-shoes/FY6503....</td>\n",
       "      <td>Choigo Shoes</td>\n",
       "      <td>FY6503</td>\n",
       "      <td>USD</td>\n",
       "      <td>InStock</td>\n",
       "      <td>Black</td>\n",
       "      <td>Shoes</td>\n",
       "      <td>adidas United States</td>\n",
       "      <td>https://www.adidas.com</td>\n",
       "      <td>Women/Shoes</td>\n",
       "      <td>Take your style to bold new heights. Throw in ...</td>\n",
       "      <td>adidas</td>\n",
       "      <td>https://assets.adidas.com/images/w_600,f_auto,...</td>\n",
       "      <td>USA</td>\n",
       "      <td>en</td>\n",
       "      <td>Shoes</td>\n",
       "    </tr>\n",
       "  </tbody>\n",
       "</table>\n",
       "<p>845 rows × 16 columns</p>\n",
       "</div>"
      ],
      "text/plain": [
       "                                                   url  \\\n",
       "0    https://www.adidas.com/us/beach-shorts/FJ5089....   \n",
       "1    https://www.adidas.com/us/five-ten-kestrel-lac...   \n",
       "2    https://www.adidas.com/us/mexico-away-jersey/G...   \n",
       "3    https://www.adidas.com/us/five-ten-hiangle-pro...   \n",
       "4    https://www.adidas.com/us/mesh-broken-stripe-p...   \n",
       "..                                                 ...   \n",
       "840  https://www.adidas.com/us/supernova-plus-shoes...   \n",
       "841  https://www.adidas.com/us/choigo-shoes/H00667....   \n",
       "842  https://www.adidas.com/us/daily-3.0-shoes/GZ77...   \n",
       "843  https://www.adidas.com/us/daily-3.0-shoes/GZ77...   \n",
       "844  https://www.adidas.com/us/choigo-shoes/FY6503....   \n",
       "\n",
       "                                                name     sku currency  \\\n",
       "0                                       Beach Shorts  FJ5089      USD   \n",
       "1          Five Ten Kestrel Lace Mountain Bike Shoes  BC0770      USD   \n",
       "2                                 Mexico Away Jersey  GC7946      USD   \n",
       "3    Five Ten Hiangle Pro Competition Climbing Shoes  FV4744      USD   \n",
       "4                      Mesh Broken-Stripe Polo Shirt  GM0239      USD   \n",
       "..                                               ...     ...      ...   \n",
       "840                                 Supernova+ Shoes  FX2858      USD   \n",
       "841                                     Choigo Shoes  H00667      USD   \n",
       "842                                  Daily 3.0 Shoes  GZ7705      USD   \n",
       "843                                  Daily 3.0 Shoes  GZ7706      USD   \n",
       "844                                     Choigo Shoes  FY6503      USD   \n",
       "\n",
       "    availability  color  category                source  \\\n",
       "0        InStock  Black  Clothing  adidas United States   \n",
       "1        InStock   Grey     Shoes  adidas United States   \n",
       "2        InStock  White  Clothing  adidas United States   \n",
       "3        InStock  Black     Shoes  adidas United States   \n",
       "4        InStock   Blue  Clothing  adidas United States   \n",
       "..           ...    ...       ...                   ...   \n",
       "840      InStock  White     Shoes  adidas United States   \n",
       "841      InStock  White     Shoes  adidas United States   \n",
       "842      InStock  Black     Shoes  adidas United States   \n",
       "843      InStock   Pink     Shoes  adidas United States   \n",
       "844      InStock  Black     Shoes  adidas United States   \n",
       "\n",
       "             source_website     breadcrumbs  \\\n",
       "0    https://www.adidas.com  Women/Clothing   \n",
       "1    https://www.adidas.com     Women/Shoes   \n",
       "2    https://www.adidas.com   Kids/Clothing   \n",
       "3    https://www.adidas.com  Five Ten/Shoes   \n",
       "4    https://www.adidas.com    Men/Clothing   \n",
       "..                      ...             ...   \n",
       "840  https://www.adidas.com     Women/Shoes   \n",
       "841  https://www.adidas.com     Women/Shoes   \n",
       "842  https://www.adidas.com      Kids/Shoes   \n",
       "843  https://www.adidas.com      Kids/Shoes   \n",
       "844  https://www.adidas.com     Women/Shoes   \n",
       "\n",
       "                                           description   brand  \\\n",
       "0    Splashing in the surf. Making memories with yo...  adidas   \n",
       "1    Lace up and get after it. The Five Ten Kestrel...  adidas   \n",
       "2    Clean and crisp, this adidas Mexico Away Jerse...  adidas   \n",
       "3    The Hiangle Pro takes on the classic shape of ...  adidas   \n",
       "4    Step up to the tee relaxed. This adidas golf p...  adidas   \n",
       "..                                                 ...     ...   \n",
       "840  Take off. Touch down. Repeat. These adidas run...  adidas   \n",
       "841  If you want drama, the bold female track and f...  adidas   \n",
       "842  The style is in the details of the Daily 3.0 S...  adidas   \n",
       "843  The style is in the details of the Daily 3.0 S...  adidas   \n",
       "844  Take your style to bold new heights. Throw in ...  adidas   \n",
       "\n",
       "                                                images country language  \\\n",
       "0    https://assets.adidas.com/images/w_600,f_auto,...     USA       en   \n",
       "1    https://assets.adidas.com/images/w_600,f_auto,...     USA       en   \n",
       "2    https://assets.adidas.com/images/w_600,f_auto,...     USA       en   \n",
       "3    https://assets.adidas.com/images/w_600,f_auto,...     USA       en   \n",
       "4    https://assets.adidas.com/images/w_600,f_auto,...     USA       en   \n",
       "..                                                 ...     ...      ...   \n",
       "840  https://assets.adidas.com/images/w_600,f_auto,...     USA       en   \n",
       "841  https://assets.adidas.com/images/w_600,f_auto,...     USA       en   \n",
       "842  https://assets.adidas.com/images/w_600,f_auto,...     USA       en   \n",
       "843  https://assets.adidas.com/images/w_600,f_auto,...     USA       en   \n",
       "844  https://assets.adidas.com/images/w_600,f_auto,...     USA       en   \n",
       "\n",
       "    ncategory  \n",
       "0    Clothing  \n",
       "1       Shoes  \n",
       "2    Clothing  \n",
       "3       Shoes  \n",
       "4    Clothing  \n",
       "..        ...  \n",
       "840     Shoes  \n",
       "841     Shoes  \n",
       "842     Shoes  \n",
       "843     Shoes  \n",
       "844     Shoes  \n",
       "\n",
       "[845 rows x 16 columns]"
      ]
     },
     "execution_count": 169,
     "metadata": {},
     "output_type": "execute_result"
    }
   ],
   "source": [
    "adidas.merge(level_frequency,how='left',on='category')"
   ]
  }
 ],
 "metadata": {
  "kernelspec": {
   "display_name": "Python 3 (ipykernel)",
   "language": "python",
   "name": "python3"
  },
  "language_info": {
   "codemirror_mode": {
    "name": "ipython",
    "version": 3
   },
   "file_extension": ".py",
   "mimetype": "text/x-python",
   "name": "python",
   "nbconvert_exporter": "python",
   "pygments_lexer": "ipython3",
   "version": "3.9.12"
  }
 },
 "nbformat": 4,
 "nbformat_minor": 5
}
